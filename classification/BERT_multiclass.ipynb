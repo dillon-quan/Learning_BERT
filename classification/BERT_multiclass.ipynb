{
 "cells": [
  {
   "cell_type": "code",
   "execution_count": 1,
   "metadata": {
    "colab": {
     "base_uri": "https://localhost:8080/",
     "height": 340
    },
    "colab_type": "code",
    "executionInfo": {
     "elapsed": 3717,
     "status": "ok",
     "timestamp": 1599796390903,
     "user": {
      "displayName": "Dillon Quan",
      "photoUrl": "",
      "userId": "05921916562389664894"
     },
     "user_tz": 420
    },
    "id": "O98IGQED0H_L",
    "outputId": "2e5a597e-b5df-4b75-8549-1877aaaf6e5f"
   },
   "outputs": [
    {
     "name": "stdout",
     "output_type": "stream",
     "text": [
      "Requirement already satisfied: transformers in /usr/local/lib/python3.6/dist-packages (3.1.0)\n",
      "Requirement already satisfied: sacremoses in /usr/local/lib/python3.6/dist-packages (from transformers) (0.0.43)\n",
      "Requirement already satisfied: regex!=2019.12.17 in /usr/local/lib/python3.6/dist-packages (from transformers) (2019.12.20)\n",
      "Requirement already satisfied: dataclasses; python_version < \"3.7\" in /usr/local/lib/python3.6/dist-packages (from transformers) (0.7)\n",
      "Requirement already satisfied: tokenizers==0.8.1.rc2 in /usr/local/lib/python3.6/dist-packages (from transformers) (0.8.1rc2)\n",
      "Requirement already satisfied: filelock in /usr/local/lib/python3.6/dist-packages (from transformers) (3.0.12)\n",
      "Requirement already satisfied: sentencepiece!=0.1.92 in /usr/local/lib/python3.6/dist-packages (from transformers) (0.1.91)\n",
      "Requirement already satisfied: requests in /usr/local/lib/python3.6/dist-packages (from transformers) (2.23.0)\n",
      "Requirement already satisfied: packaging in /usr/local/lib/python3.6/dist-packages (from transformers) (20.4)\n",
      "Requirement already satisfied: tqdm>=4.27 in /usr/local/lib/python3.6/dist-packages (from transformers) (4.41.1)\n",
      "Requirement already satisfied: numpy in /usr/local/lib/python3.6/dist-packages (from transformers) (1.18.5)\n",
      "Requirement already satisfied: click in /usr/local/lib/python3.6/dist-packages (from sacremoses->transformers) (7.1.2)\n",
      "Requirement already satisfied: six in /usr/local/lib/python3.6/dist-packages (from sacremoses->transformers) (1.15.0)\n",
      "Requirement already satisfied: joblib in /usr/local/lib/python3.6/dist-packages (from sacremoses->transformers) (0.16.0)\n",
      "Requirement already satisfied: urllib3!=1.25.0,!=1.25.1,<1.26,>=1.21.1 in /usr/local/lib/python3.6/dist-packages (from requests->transformers) (1.24.3)\n",
      "Requirement already satisfied: idna<3,>=2.5 in /usr/local/lib/python3.6/dist-packages (from requests->transformers) (2.10)\n",
      "Requirement already satisfied: chardet<4,>=3.0.2 in /usr/local/lib/python3.6/dist-packages (from requests->transformers) (3.0.4)\n",
      "Requirement already satisfied: certifi>=2017.4.17 in /usr/local/lib/python3.6/dist-packages (from requests->transformers) (2020.6.20)\n",
      "Requirement already satisfied: pyparsing>=2.0.2 in /usr/local/lib/python3.6/dist-packages (from packaging->transformers) (2.4.7)\n"
     ]
    }
   ],
   "source": [
    "!pip install transformers"
   ]
  },
  {
   "cell_type": "code",
   "execution_count": 2,
   "metadata": {
    "colab": {},
    "colab_type": "code",
    "executionInfo": {
     "elapsed": 8548,
     "status": "ok",
     "timestamp": 1599796403658,
     "user": {
      "displayName": "Dillon Quan",
      "photoUrl": "",
      "userId": "05921916562389664894"
     },
     "user_tz": 420
    },
    "id": "5oT-_23p0ixw"
   },
   "outputs": [],
   "source": [
    "import pandas as pd\n",
    "import transformers\n",
    "import torch\n",
    "import torch.nn as nn\n",
    "import torch.nn.functional as F\n",
    "from torch.utils.data import Dataset, DataLoader\n",
    "from transformers import BertModel, BertTokenizer"
   ]
  },
  {
   "cell_type": "code",
   "execution_count": null,
   "metadata": {
    "colab": {
     "base_uri": "https://localhost:8080/",
     "height": 352
    },
    "colab_type": "code",
    "id": "5EL-_8QK1j9d",
    "outputId": "226c36b9-ab01-4959-ea50-198279c98974"
   },
   "outputs": [
    {
     "name": "stdout",
     "output_type": "stream",
     "text": [
      "--2020-09-11 03:53:22--  http://wget/\n",
      "Resolving wget (wget)... failed: Name or service not known.\n",
      "wget: unable to resolve host address ‘wget’\n",
      "--2020-09-11 03:53:22--  https://archive.ics.uci.edu/ml/machine-learning-databases/00359/NewsAggregatorDataset.zip\n",
      "Resolving archive.ics.uci.edu (archive.ics.uci.edu)... 128.195.10.252\n",
      "Connecting to archive.ics.uci.edu (archive.ics.uci.edu)|128.195.10.252|:443... connected.\n",
      "HTTP request sent, awaiting response... 200 OK\n",
      "Length: 29224203 (28M) [application/x-httpd-php]\n",
      "Saving to: ‘NewsAggregatorDataset.zip.1’\n",
      "\n",
      "NewsAggregatorDatas 100%[===================>]  27.87M  58.4MB/s    in 0.5s    \n",
      "\n",
      "2020-09-11 03:53:23 (58.4 MB/s) - ‘NewsAggregatorDataset.zip.1’ saved [29224203/29224203]\n",
      "\n",
      "FINISHED --2020-09-11 03:53:23--\n",
      "Total wall clock time: 0.7s\n",
      "Downloaded: 1 files, 28M in 0.5s (58.4 MB/s)\n",
      "mkdir: cannot create directory ‘data’: File exists\n",
      "replace ./data/2pageSessions.csv? [y]es, [n]o, [A]ll, [N]one, [r]ename: "
     ]
    }
   ],
   "source": [
    "def get_data():\n",
    "    ! wget wget https://archive.ics.uci.edu/ml/machine-learning-databases/00359/NewsAggregatorDataset.zip\n",
    "    ! mkdir data\n",
    "    ! unzip -q NewsAggregatorDataset.zip -d ./data\n",
    "get_data()"
   ]
  },
  {
   "cell_type": "code",
   "execution_count": null,
   "metadata": {
    "colab": {},
    "colab_type": "code",
    "id": "T2Nv3CEySd9o"
   },
   "outputs": [],
   "source": [
    "device = 'cuda' if torch.cuda.is_available() else 'cpu'\n",
    "device"
   ]
  },
  {
   "cell_type": "code",
   "execution_count": null,
   "metadata": {
    "colab": {},
    "colab_type": "code",
    "id": "B0ySqyS22VJW"
   },
   "outputs": [],
   "source": [
    "df = pd.read_csv('./data/newsCorpora.csv', sep='\\t', names=['ID', 'TITLE', 'URL', 'PUBLISHER', 'CATEGORY', 'STORY', 'HOSTNAME', 'TIMESTAMP'])\n",
    "df = df[['TITLE', 'CATEGORY']]\n",
    "df.head()"
   ]
  },
  {
   "cell_type": "code",
   "execution_count": null,
   "metadata": {
    "colab": {},
    "colab_type": "code",
    "id": "JjhbbKIA2kpe"
   },
   "outputs": [],
   "source": [
    "labels = dict(enumerate(set(df.CATEGORY.unique())))\n",
    "labels = {v:k for k, v in labels.items()}\n",
    "labels"
   ]
  },
  {
   "cell_type": "code",
   "execution_count": null,
   "metadata": {
    "colab": {},
    "colab_type": "code",
    "id": "K0nw8-LV217T"
   },
   "outputs": [],
   "source": [
    "def encode_labels(value):\n",
    "    return labels[value]"
   ]
  },
  {
   "cell_type": "code",
   "execution_count": null,
   "metadata": {
    "colab": {},
    "colab_type": "code",
    "id": "037i3Uew3Gk3"
   },
   "outputs": [],
   "source": [
    "df['LABELS'] = df.CATEGORY.apply(encode_labels)\n",
    "df.head()"
   ]
  },
  {
   "cell_type": "code",
   "execution_count": null,
   "metadata": {
    "colab": {},
    "colab_type": "code",
    "id": "6qfCErQA3OBV"
   },
   "outputs": [],
   "source": [
    "# Defining some key variables that will be used later on in the training\n",
    "MAX_LEN = 512\n",
    "TRAIN_BATCH_SIZE = 4\n",
    "VALID_BATCH_SIZE = 2\n",
    "EPOCHS = 1\n",
    "LEARNING_RATE = 1e-5\n",
    "tokenizer = BertTokenizer.from_pretrained('bert-base-uncased')"
   ]
  },
  {
   "cell_type": "code",
   "execution_count": 9,
   "metadata": {
    "colab": {
     "base_uri": "https://localhost:8080/",
     "height": 88
    },
    "colab_type": "code",
    "executionInfo": {
     "elapsed": 383,
     "status": "ok",
     "timestamp": 1599793083123,
     "user": {
      "displayName": "Dillon Quan",
      "photoUrl": "",
      "userId": "05921916562389664894"
     },
     "user_tz": 420
    },
    "id": "QqIS0NQY3Xty",
    "outputId": "474a918b-94a7-47f0-9a36-f333d3e6eba3"
   },
   "outputs": [
    {
     "name": "stdout",
     "output_type": "stream",
     "text": [
      "Tokenized Text: ['fed', 'official', 'says', 'weak', 'data', 'caused', 'by', 'weather', ',', 'should', 'not', 'slow', 'tape', '##r']\n",
      "Encoded Text: [101, 7349, 2880, 2758, 5410, 2951, 3303, 2011, 4633, 1010, 2323, 2025, 4030, 6823, 2099, 102]\n",
      "Encoded Text Plus: {'input_ids': [101, 7349, 2880, 2758, 5410, 2951, 3303, 2011, 4633, 1010, 2323, 2025, 4030, 6823, 2099, 102], 'token_type_ids': [0, 0, 0, 0, 0, 0, 0, 0, 0, 0, 0, 0, 0, 0, 0, 0], 'attention_mask': [1, 1, 1, 1, 1, 1, 1, 1, 1, 1, 1, 1, 1, 1, 1, 1]}\n"
     ]
    }
   ],
   "source": [
    "print(f\"Tokenized Text: {tokenizer.tokenize(df.loc[0, 'TITLE'])}\")\n",
    "#print(f\"Tokenized Text w/ special tokens: {tokenizer.add_special_tokens(df.loc[0, 'TITLE'])}\")\n",
    "print(f\"Encoded Text: {tokenizer.encode(df.loc[0, 'TITLE'])}\")\n",
    "print(f\"Encoded Text Plus: {tokenizer.encode_plus(df.loc[0,'TITLE'])}\")  # encode_plus returns a dictionary with 2 other arrays"
   ]
  },
  {
   "cell_type": "code",
   "execution_count": 10,
   "metadata": {
    "colab": {
     "base_uri": "https://localhost:8080/",
     "height": 34
    },
    "colab_type": "code",
    "executionInfo": {
     "elapsed": 391,
     "status": "ok",
     "timestamp": 1599793091527,
     "user": {
      "displayName": "Dillon Quan",
      "photoUrl": "",
      "userId": "05921916562389664894"
     },
     "user_tz": 420
    },
    "id": "Avn-S0OQ6Ncl",
    "outputId": "c2de706f-087b-41ff-cefb-b86ad68e957c"
   },
   "outputs": [
    {
     "name": "stdout",
     "output_type": "stream",
     "text": [
      "Decoded Text: [CLS] fed official says weak data caused by weather, should not slow taper [SEP]\n"
     ]
    }
   ],
   "source": [
    "test  = tokenizer.encode_plus(df.loc[0, 'TITLE'])\n",
    "print(f\"Decoded Text: {tokenizer.decode(test['input_ids'])}\")"
   ]
  },
  {
   "cell_type": "code",
   "execution_count": 64,
   "metadata": {
    "colab": {},
    "colab_type": "code",
    "executionInfo": {
     "elapsed": 496,
     "status": "ok",
     "timestamp": 1599795903406,
     "user": {
      "displayName": "Dillon Quan",
      "photoUrl": "",
      "userId": "05921916562389664894"
     },
     "user_tz": 420
    },
    "id": "gofAknd37Kog"
   },
   "outputs": [],
   "source": [
    "class Triage(Dataset):\n",
    "    def __init__(self, data, tokenizer, max_len):\n",
    "        super().__init__()\n",
    "        self.X = data.TITLE\n",
    "        self.y = data.LABELS\n",
    "        self.tokenizer = tokenizer\n",
    "        self.max_len = max_len\n",
    "\n",
    "    def __len__(self):\n",
    "        return self.X.shape[0]\n",
    "    \n",
    "    def __getitem__(self, idx):\n",
    "        inputs = self.tokenizer.tokenize(self.X.loc[idx])\n",
    "        inputs = self.tokenizer.encode_plus(inputs,\n",
    "                                            add_special_tokens=True,\n",
    "                                            max_length=self.max_len,\n",
    "                                            pad_to_max_length=True,\n",
    "                                            truncation=True)\n",
    "        \n",
    "        return torch.LongTensor(inputs['input_ids']), torch.LongTensor(inputs['attention_mask']), self.y.loc[idx]"
   ]
  },
  {
   "cell_type": "code",
   "execution_count": 65,
   "metadata": {
    "colab": {
     "base_uri": "https://localhost:8080/",
     "height": 88
    },
    "colab_type": "code",
    "executionInfo": {
     "elapsed": 411,
     "status": "ok",
     "timestamp": 1599795907874,
     "user": {
      "displayName": "Dillon Quan",
      "photoUrl": "",
      "userId": "05921916562389664894"
     },
     "user_tz": 420
    },
    "id": "IILhpaSI89Ql",
    "outputId": "480e1905-12ef-4fcf-97f8-d478e2fc2d4d"
   },
   "outputs": [
    {
     "name": "stderr",
     "output_type": "stream",
     "text": [
      "/usr/local/lib/python3.6/dist-packages/transformers/tokenization_utils_base.py:1770: FutureWarning: The `pad_to_max_length` argument is deprecated and will be removed in a future version, use `padding=True` or `padding='longest'` to pad to the longest sequence in the batch, or use `padding='max_length'` to pad to a max length. In this case, you can give a specific length with `max_length` (e.g. `max_length=45`) or leave max_length to None to pad to the maximal input size of the model (e.g. 512 for Bert).\n",
      "  FutureWarning,\n"
     ]
    },
    {
     "data": {
      "text/plain": [
       "torch.Size([512])"
      ]
     },
     "execution_count": 65,
     "metadata": {
      "tags": []
     },
     "output_type": "execute_result"
    }
   ],
   "source": [
    "# testing the dataset\n",
    "test = df.head()\n",
    "train_ds = Triage(test, tokenizer, MAX_LEN)\n",
    "train_ds[0][0].size()"
   ]
  },
  {
   "cell_type": "code",
   "execution_count": 66,
   "metadata": {
    "colab": {
     "base_uri": "https://localhost:8080/",
     "height": 68
    },
    "colab_type": "code",
    "executionInfo": {
     "elapsed": 545,
     "status": "ok",
     "timestamp": 1599795918179,
     "user": {
      "displayName": "Dillon Quan",
      "photoUrl": "",
      "userId": "05921916562389664894"
     },
     "user_tz": 420
    },
    "id": "yRo32A71H4tw",
    "outputId": "80cae468-705c-4f1e-a585-62a1cf0550c9"
   },
   "outputs": [
    {
     "name": "stdout",
     "output_type": "stream",
     "text": [
      "FULL Dataset: (422419, 3)\n",
      "TRAIN Dataset: (337935, 3)\n",
      "TEST Dataset: (84484, 3)\n"
     ]
    }
   ],
   "source": [
    "# Creating the dataset and dataloader for the neural network\n",
    "train_size = 0.8\n",
    "train_dataset = df.sample(frac=train_size,random_state=200)\n",
    "test_dataset = df.drop(train_dataset.index).reset_index(drop=True)\n",
    "train_dataset = train_dataset.reset_index(drop=True)\n",
    "\n",
    "\n",
    "print(\"FULL Dataset: {}\".format(df.shape))\n",
    "print(\"TRAIN Dataset: {}\".format(train_dataset.shape))\n",
    "print(\"TEST Dataset: {}\".format(test_dataset.shape))\n",
    "\n",
    "train_ds = Triage(train_dataset, tokenizer, MAX_LEN)\n",
    "test_ds = Triage(test_dataset, tokenizer, MAX_LEN)"
   ]
  },
  {
   "cell_type": "code",
   "execution_count": 67,
   "metadata": {
    "colab": {},
    "colab_type": "code",
    "executionInfo": {
     "elapsed": 424,
     "status": "ok",
     "timestamp": 1599795920970,
     "user": {
      "displayName": "Dillon Quan",
      "photoUrl": "",
      "userId": "05921916562389664894"
     },
     "user_tz": 420
    },
    "id": "9mM8J5EFKA6E"
   },
   "outputs": [],
   "source": [
    "# setting up the dataloader\n",
    "train_dl = DataLoader(train_ds, shuffle=True, batch_size=TRAIN_BATCH_SIZE)\n",
    "valid_dl = DataLoader(test_ds, batch_size=VALID_BATCH_SIZE)"
   ]
  },
  {
   "cell_type": "code",
   "execution_count": 68,
   "metadata": {
    "colab": {
     "base_uri": "https://localhost:8080/",
     "height": 71
    },
    "colab_type": "code",
    "executionInfo": {
     "elapsed": 401,
     "status": "ok",
     "timestamp": 1599795921987,
     "user": {
      "displayName": "Dillon Quan",
      "photoUrl": "",
      "userId": "05921916562389664894"
     },
     "user_tz": 420
    },
    "id": "VJwshIAxKW_w",
    "outputId": "41881a4a-e442-41a3-c825-2bc539362364"
   },
   "outputs": [
    {
     "name": "stderr",
     "output_type": "stream",
     "text": [
      "/usr/local/lib/python3.6/dist-packages/transformers/tokenization_utils_base.py:1770: FutureWarning: The `pad_to_max_length` argument is deprecated and will be removed in a future version, use `padding=True` or `padding='longest'` to pad to the longest sequence in the batch, or use `padding='max_length'` to pad to a max length. In this case, you can give a specific length with `max_length` (e.g. `max_length=45`) or leave max_length to None to pad to the maximal input size of the model (e.g. 512 for Bert).\n",
      "  FutureWarning,\n"
     ]
    }
   ],
   "source": [
    "x, mask, y = next(iter(train_dl))"
   ]
  },
  {
   "cell_type": "code",
   "execution_count": 72,
   "metadata": {
    "colab": {},
    "colab_type": "code",
    "executionInfo": {
     "elapsed": 516,
     "status": "ok",
     "timestamp": 1599796149757,
     "user": {
      "displayName": "Dillon Quan",
      "photoUrl": "",
      "userId": "05921916562389664894"
     },
     "user_tz": 420
    },
    "id": "Jdwt6t2MMdvW"
   },
   "outputs": [],
   "source": [
    "class BERT(nn.Module):\n",
    "    def __init__(self, n_class, dropout):\n",
    "        super().__init__()\n",
    "        self.bert = BertModel.from_pretrained('bert-base-uncased')\n",
    "        self.pre_classifier = torch.nn.Linear(768, 768)\n",
    "        self.classifier = torch.nn.Linear(768, n_class)\n",
    "        self.dropout = nn.Dropout(dropout)\n",
    "\n",
    "    def forward(self, input_ids, attention_mask):\n",
    "        # seq = [batch_size, seq_len, h_dim] pool = [batch_size, h_dim]\n",
    "        seq, pool = self.bert(input_ids=input_ids, attention_mask=attention_mask)\n",
    "        output = F.relu(self.pre_classifier(pool))\n",
    "        output = self.dropout(output)\n",
    "        return self.classifier(output)"
   ]
  },
  {
   "cell_type": "code",
   "execution_count": 78,
   "metadata": {
    "colab": {
     "base_uri": "https://localhost:8080/",
     "height": 34
    },
    "colab_type": "code",
    "executionInfo": {
     "elapsed": 12644,
     "status": "ok",
     "timestamp": 1599796351234,
     "user": {
      "displayName": "Dillon Quan",
      "photoUrl": "",
      "userId": "05921916562389664894"
     },
     "user_tz": 420
    },
    "id": "oZEJiXVxNv5W",
    "outputId": "0abdcb43-5b46-45cc-8167-87d710266a5a"
   },
   "outputs": [
    {
     "data": {
      "text/plain": [
       "torch.Size([4, 4])"
      ]
     },
     "execution_count": 78,
     "metadata": {
      "tags": []
     },
     "output_type": "execute_result"
    }
   ],
   "source": [
    "# TESTING the customized model\n",
    "model = BERT(df.LABELS.nunique(), .3)\n",
    "output = model(input_ids=x, attention_mask=mask)\n",
    "output.size()"
   ]
  },
  {
   "cell_type": "code",
   "execution_count": null,
   "metadata": {
    "colab": {},
    "colab_type": "code",
    "id": "r8kIPsa4RPt6"
   },
   "outputs": [],
   "source": [
    "model.to(device)"
   ]
  },
  {
   "cell_type": "code",
   "execution_count": null,
   "metadata": {
    "colab": {},
    "colab_type": "code",
    "id": "-y2PN0trSx-a"
   },
   "outputs": [],
   "source": []
  }
 ],
 "metadata": {
  "accelerator": "GPU",
  "colab": {
   "authorship_tag": "ABX9TyOO2Ram+dLNZ9/DjitNNSay",
   "name": "BERT_multiclass.ipynb",
   "provenance": []
  },
  "kernelspec": {
   "display_name": "Python 3",
   "language": "python",
   "name": "python3"
  },
  "language_info": {
   "codemirror_mode": {
    "name": "ipython",
    "version": 3
   },
   "file_extension": ".py",
   "mimetype": "text/x-python",
   "name": "python",
   "nbconvert_exporter": "python",
   "pygments_lexer": "ipython3",
   "version": "3.7.4"
  }
 },
 "nbformat": 4,
 "nbformat_minor": 1
}
